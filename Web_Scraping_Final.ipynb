{
 "cells": [
  {
   "cell_type": "markdown",
   "id": "73583569",
   "metadata": {},
   "source": [
    "# Web Scraping"
   ]
  },
  {
   "cell_type": "code",
   "execution_count": null,
   "id": "7615edae",
   "metadata": {},
   "outputs": [],
   "source": [
    "import requests\n",
    "from bs4 import BeautifulSoup\n",
    "import pandas as pd\n",
    "import time\n",
    "import socket\n"
   ]
  },
  {
   "cell_type": "code",
   "execution_count": null,
   "id": "ed09f4a4",
   "metadata": {},
   "outputs": [],
   "source": [
    "def get_synonyms(ingredient):\n",
    "    try:\n",
    "        sample_web_page = f'https://webbook.nist.gov/cgi/cbook.cgi?Name={ingredient}&Units=SI'\n",
    "\n",
    "        # Retry mechanism with increased timeout and handling DNS resolution issues\n",
    "        max_retries = 3\n",
    "        for attempt in range(max_retries):\n",
    "            try:\n",
    "                page = requests.get(sample_web_page, timeout=30)  # Increased timeout\n",
    "                page.raise_for_status()\n",
    "                break  # Break the loop if successful\n",
    "            except (requests.RequestException, socket.gaierror) as e:\n",
    "                print(f\"Error retrieving data for {ingredient}: {e}\")\n",
    "                print(f\"URL: {sample_web_page}\")\n",
    "                if attempt < max_retries - 1:\n",
    "                    print(f\"Retrying... (Attempt {attempt + 2})\")\n",
    "                    time.sleep(10)  # Adjust the delay time as needed\n",
    "                else:\n",
    "                    print(\"Max retries exceeded. Skipping.\")\n",
    "                    return None\n",
    "\n",
    "        soup = BeautifulSoup(page.content, \"html.parser\")\n",
    "\n",
    "        child_soup = soup.find_all('li')\n",
    "        text = 'Other names:'\n",
    "\n",
    "        synonyms = None\n",
    "        for child in child_soup:\n",
    "            if text in child.text:\n",
    "                synonyms = child.text.replace(text, '').strip()\n",
    "\n",
    "        return synonyms\n",
    "    except requests.RequestException as e:\n",
    "        print(f\"Error retrieving data for {ingredient}: {e}\")\n",
    "        return None\n",
    "\n"
   ]
  },
  {
   "cell_type": "code",
   "execution_count": null,
   "id": "7ed8951e",
   "metadata": {},
   "outputs": [],
   "source": [
    "# Read the existing DataFrame from a CSV file\n",
    "input_file = 'Synonyms_Full_No_Duplicate.csv'\n",
    "output_file = 'SynonymsFull_Web_Scaping.csv'\n",
    "\n",
    "new_df2 = pd.read_csv(input_file)\n",
    "\n"
   ]
  },
  {
   "cell_type": "code",
   "execution_count": null,
   "id": "2f1e9233",
   "metadata": {},
   "outputs": [],
   "source": [
    "for index, row in new_df2.iterrows():\n",
    "    if pd.isna(row['Synonym']):\n",
    "        ingredient = row['Name']\n",
    "        synonyms = get_synonyms(ingredient)\n",
    "        new_df2.at[index, 'Synonym'] = synonyms\n",
    "\n",
    "        # Add a delay between requests to avoid being blocked\n",
    "        time.sleep(2)  # Adjust the delay time as needed"
   ]
  },
  {
   "cell_type": "code",
   "execution_count": null,
   "id": "75a02845",
   "metadata": {},
   "outputs": [],
   "source": [
    "# Save the updated DataFrame to a new CSV file\n",
    "new_df2.to_csv(output_file, index=False)"
   ]
  }
 ],
 "metadata": {
  "kernelspec": {
   "display_name": "Python 3 (ipykernel)",
   "language": "python",
   "name": "python3"
  },
  "language_info": {
   "codemirror_mode": {
    "name": "ipython",
    "version": 3
   },
   "file_extension": ".py",
   "mimetype": "text/x-python",
   "name": "python",
   "nbconvert_exporter": "python",
   "pygments_lexer": "ipython3",
   "version": "3.11.5"
  }
 },
 "nbformat": 4,
 "nbformat_minor": 5
}
