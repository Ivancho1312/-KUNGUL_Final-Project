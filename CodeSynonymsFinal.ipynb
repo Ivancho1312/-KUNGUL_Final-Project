{
 "cells": [
  {
   "cell_type": "markdown",
   "metadata": {},
   "source": [
    "# Code for scraping synonyms"
   ]
  },
  {
   "cell_type": "code",
   "execution_count": null,
   "metadata": {
    "colab": {
     "base_uri": "https://localhost:8080/"
    },
    "id": "oYWveUU-S7O5",
    "outputId": "63bb9771-cb49-4f62-f271-3f82e1a6c1f5"
   },
   "outputs": [
    {
     "name": "stdout",
     "output_type": "stream",
     "text": [
      "Collecting pubchempy\n",
      "  Downloading PubChemPy-1.0.4.tar.gz (29 kB)\n",
      "  Preparing metadata (setup.py) ... \u001b[?25l\u001b[?25hdone\n",
      "Building wheels for collected packages: pubchempy\n",
      "  Building wheel for pubchempy (setup.py) ... \u001b[?25l\u001b[?25hdone\n",
      "  Created wheel for pubchempy: filename=PubChemPy-1.0.4-py3-none-any.whl size=13819 sha256=8b7f507dce54ffc6c70e07d2291796d651d968fbea1392e7efb4c937735648fb\n",
      "  Stored in directory: /root/.cache/pip/wheels/90/7c/45/18a0671e3c3316966ef7ed9ad2b3f3300a7e41d3421a44e799\n",
      "Successfully built pubchempy\n",
      "Installing collected packages: pubchempy\n",
      "Successfully installed pubchempy-1.0.4\n"
     ]
    }
   ],
   "source": [
    "!pip install pubchempy\n"
   ]
  },
  {
   "cell_type": "code",
   "execution_count": 1,
   "metadata": {},
   "outputs": [],
   "source": [
    "import pubchempy\n",
    "import pandas as pd"
   ]
  },
  {
   "cell_type": "code",
   "execution_count": null,
   "metadata": {
    "id": "ok5vSr6yTBym"
   },
   "outputs": [],
   "source": [
    "# Loading the data\n",
    "df = pd.read_excel(r'C:\\Users\\hallu\\Desktop\\Final Project\\Code\\Ingredients list.xlsx')\n",
    "\n",
    "# Get unique words from the 'Name' column\n",
    "ingredient_words = df['Name'].str.replace(',', ' ').str.split(expand=True).stack().unique()\n",
    "\n",
    "# Create a list comprehension to extract synonyms\n",
    "synonyms_list = [\n",
    "    {'Ingredient': my_query, 'Synonym': synonym}\n",
    "    for my_query in ingredient_words\n",
    "    for x in pubchempy.get_synonyms(identifier=my_query, namespace='name',record_type='3d')\n",
    "    for synonym in x.get('Synonym', [])\n",
    "]\n",
    "\n",
    "# Create a DataFrame from the list of synonyms\n",
    "synonyms_df = pd.DataFrame(synonyms_list)\n",
    "\n",
    "# Save the DataFrame to a CSV file\n",
    "synonyms_df.to_csv('synonyms_results.csv', index=False)\n"
   ]
  },
  {
   "cell_type": "markdown",
   "metadata": {},
   "source": [
    "# Loading the result data"
   ]
  },
  {
   "cell_type": "code",
   "execution_count": 3,
   "metadata": {
    "id": "eM6Lf4PHS9hT"
   },
   "outputs": [
    {
     "data": {
      "text/html": [
       "<div>\n",
       "<style scoped>\n",
       "    .dataframe tbody tr th:only-of-type {\n",
       "        vertical-align: middle;\n",
       "    }\n",
       "\n",
       "    .dataframe tbody tr th {\n",
       "        vertical-align: top;\n",
       "    }\n",
       "\n",
       "    .dataframe thead th {\n",
       "        text-align: right;\n",
       "    }\n",
       "</style>\n",
       "<table border=\"1\" class=\"dataframe\">\n",
       "  <thead>\n",
       "    <tr style=\"text-align: right;\">\n",
       "      <th></th>\n",
       "      <th>Ingredient</th>\n",
       "      <th>Synonym</th>\n",
       "    </tr>\n",
       "  </thead>\n",
       "  <tbody>\n",
       "    <tr>\n",
       "      <th>0</th>\n",
       "      <td>Orange</td>\n",
       "      <td>Acid orange 7</td>\n",
       "    </tr>\n",
       "    <tr>\n",
       "      <th>1</th>\n",
       "      <td>Orange</td>\n",
       "      <td>633-96-5</td>\n",
       "    </tr>\n",
       "    <tr>\n",
       "      <th>2</th>\n",
       "      <td>Orange</td>\n",
       "      <td>Orange II</td>\n",
       "    </tr>\n",
       "    <tr>\n",
       "      <th>3</th>\n",
       "      <td>Orange</td>\n",
       "      <td>C.I. Acid Orange 7</td>\n",
       "    </tr>\n",
       "    <tr>\n",
       "      <th>4</th>\n",
       "      <td>Orange</td>\n",
       "      <td>Acid Orange A</td>\n",
       "    </tr>\n",
       "    <tr>\n",
       "      <th>...</th>\n",
       "      <td>...</td>\n",
       "      <td>...</td>\n",
       "    </tr>\n",
       "    <tr>\n",
       "      <th>301296</th>\n",
       "      <td>Piperonyl</td>\n",
       "      <td>BRD-K26801045-001-01-1</td>\n",
       "    </tr>\n",
       "    <tr>\n",
       "      <th>301297</th>\n",
       "      <td>Piperonyl</td>\n",
       "      <td>Isonipecotamide, 1-(3-(p-fluorobenzoyl)propyl)...</td>\n",
       "    </tr>\n",
       "    <tr>\n",
       "      <th>301298</th>\n",
       "      <td>Piperonyl</td>\n",
       "      <td>p-Fluoro-.gamma.-(4-piperidino-4-carbamoylpipe...</td>\n",
       "    </tr>\n",
       "    <tr>\n",
       "      <th>301299</th>\n",
       "      <td>Piperonyl</td>\n",
       "      <td>1,4'-Bipiperidine)-4'-carboxamide, 1'-(4-(4-fl...</td>\n",
       "    </tr>\n",
       "    <tr>\n",
       "      <th>301300</th>\n",
       "      <td>Piperonyl</td>\n",
       "      <td>1-(4-fluorophenyl)-4-(4-piperidino-4-carbamoyl...</td>\n",
       "    </tr>\n",
       "  </tbody>\n",
       "</table>\n",
       "<p>301301 rows × 2 columns</p>\n",
       "</div>"
      ],
      "text/plain": [
       "       Ingredient                                            Synonym\n",
       "0          Orange                                      Acid orange 7\n",
       "1          Orange                                           633-96-5\n",
       "2          Orange                                          Orange II\n",
       "3          Orange                                 C.I. Acid Orange 7\n",
       "4          Orange                                      Acid Orange A\n",
       "...           ...                                                ...\n",
       "301296  Piperonyl                             BRD-K26801045-001-01-1\n",
       "301297  Piperonyl  Isonipecotamide, 1-(3-(p-fluorobenzoyl)propyl)...\n",
       "301298  Piperonyl  p-Fluoro-.gamma.-(4-piperidino-4-carbamoylpipe...\n",
       "301299  Piperonyl  1,4'-Bipiperidine)-4'-carboxamide, 1'-(4-(4-fl...\n",
       "301300  Piperonyl  1-(4-fluorophenyl)-4-(4-piperidino-4-carbamoyl...\n",
       "\n",
       "[301301 rows x 2 columns]"
      ]
     },
     "execution_count": 3,
     "metadata": {},
     "output_type": "execute_result"
    }
   ],
   "source": [
    "df1 = pd.read_csv('synonyms_results.csv')\n",
    "df1"
   ]
  },
  {
   "cell_type": "code",
   "execution_count": 8,
   "metadata": {},
   "outputs": [
    {
     "data": {
      "text/plain": [
       "2416"
      ]
     },
     "execution_count": 8,
     "metadata": {},
     "output_type": "execute_result"
    }
   ],
   "source": [
    "len(df1['Ingredient'].unique())"
   ]
  },
  {
   "cell_type": "code",
   "execution_count": 9,
   "metadata": {},
   "outputs": [
    {
     "data": {
      "text/plain": [
       "183091"
      ]
     },
     "execution_count": 9,
     "metadata": {},
     "output_type": "execute_result"
    }
   ],
   "source": [
    "len(df1['Synonym'].unique())"
   ]
  },
  {
   "cell_type": "code",
   "execution_count": null,
   "metadata": {},
   "outputs": [],
   "source": []
  }
 ],
 "metadata": {
  "colab": {
   "provenance": []
  },
  "kernelspec": {
   "display_name": "Python 3 (ipykernel)",
   "language": "python",
   "name": "python3"
  },
  "language_info": {
   "codemirror_mode": {
    "name": "ipython",
    "version": 3
   },
   "file_extension": ".py",
   "mimetype": "text/x-python",
   "name": "python",
   "nbconvert_exporter": "python",
   "pygments_lexer": "ipython3",
   "version": "3.11.5"
  }
 },
 "nbformat": 4,
 "nbformat_minor": 1
}
